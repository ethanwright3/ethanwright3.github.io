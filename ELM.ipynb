{
 "cells": [
  {
   "cell_type": "code",
   "execution_count": 84,
   "id": "e37783a0",
   "metadata": {},
   "outputs": [],
   "source": [
    "from elm import ELM\n",
    "import pandas as pd\n",
    "from sklearn.preprocessing import normalize\n",
    "from sklearn.datasets import fetch_openml as fetch_mldata\n",
    "from sklearn.model_selection import train_test_split\n",
    "from sklearn import preprocessing\n",
    "import numpy as np\n",
    "#pip install git+https://github.com/masaponto/python-elm"
   ]
  },
  {
   "cell_type": "code",
   "execution_count": 70,
   "id": "9a011cca",
   "metadata": {},
   "outputs": [],
   "source": [
    "df = pd.read_csv(\"CombinedChileData.csv\")"
   ]
  },
  {
   "cell_type": "code",
   "execution_count": 71,
   "id": "4d09b811",
   "metadata": {},
   "outputs": [],
   "source": [
    "df=df[df.columns[0:4]]\n",
    "df = df.dropna()\n",
    "df['Date'] = pd.to_numeric(pd.to_datetime(df['Date']))"
   ]
  },
  {
   "cell_type": "code",
   "execution_count": 87,
   "id": "cb7ebbf8",
   "metadata": {},
   "outputs": [
    {
     "name": "stdout",
     "output_type": "stream",
     "text": [
      "ELM Accuracy 0.754 \n"
     ]
    }
   ],
   "source": [
    "#data_set = fetch_mldata(df)\n",
    "data_set.data = normalize(data_set.data)\n",
    "data_set.target = [1 if i == 1 else -1 for i in  np.array(data_set.target, dtype=np.float32)]\n",
    "\n",
    "X_train, X_test, y_train, y_test = train_test_split(\n",
    "    data_set.data, data_set.target, test_size=0.2)\n",
    "\n",
    "elm = ELM(hid_num=10).fit(X_train, y_train)\n",
    "\n",
    "print(\"ELM Accuracy %0.3f \" % elm.score(X_test, y_test))"
   ]
  },
  {
   "cell_type": "code",
   "execution_count": null,
   "id": "373a4cb1",
   "metadata": {},
   "outputs": [],
   "source": []
  }
 ],
 "metadata": {
  "kernelspec": {
   "display_name": "Python 3",
   "language": "python",
   "name": "python3"
  },
  "language_info": {
   "codemirror_mode": {
    "name": "ipython",
    "version": 3
   },
   "file_extension": ".py",
   "mimetype": "text/x-python",
   "name": "python",
   "nbconvert_exporter": "python",
   "pygments_lexer": "ipython3",
   "version": "3.8.8"
  }
 },
 "nbformat": 4,
 "nbformat_minor": 5
}
